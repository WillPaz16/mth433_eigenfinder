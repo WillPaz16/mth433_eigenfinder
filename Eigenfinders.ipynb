{
 "cells": [
  {
   "cell_type": "markdown",
   "id": "f14edbff",
   "metadata": {},
   "source": [
    "## Will Paz"
   ]
  },
  {
   "cell_type": "code",
   "execution_count": 1,
   "id": "ec50d3b6",
   "metadata": {},
   "outputs": [],
   "source": [
    "import numpy as np"
   ]
  },
  {
   "cell_type": "code",
   "execution_count": 2,
   "id": "aceb5863",
   "metadata": {},
   "outputs": [],
   "source": [
    "def rayleigh(A,x):\n",
    "    \"\"\"\n",
    "    Applies the Rayleigh quotient\n",
    "    Inputs: The matrix A and the vector x\n",
    "    Output: The Rayleigh quotient value\n",
    "    \"\"\"\n",
    "    top = np.dot(np.dot(A, x), x)\n",
    "    bottom = np.dot(x, x) \n",
    "    r = top / bottom \n",
    "    return r"
   ]
  },
  {
   "cell_type": "code",
   "execution_count": 3,
   "id": "fe1ca217",
   "metadata": {},
   "outputs": [],
   "source": [
    "def algo1(A,steps):\n",
    "    \"\"\"\n",
    "    Runs the first algorithm and returns the \"best\" eigenvector and eigenvalue for A in the number of given steps\n",
    "    Inputs: The matrix A (symmetric) and the number of desired steps\n",
    "    Output: The \"best\" eigenvector and value in the steps given\n",
    "    \"\"\"\n",
    "    n,m = A.shape\n",
    "    e_val_approx = np.zeros(steps+1)\n",
    "    e_vec_approx = np.zeros((n,steps+1))\n",
    "    \n",
    "    v = np.random.rand(1,n)\n",
    "    \n",
    "    e_vec_approx[:,0] = v/np.linalg.norm(v)\n",
    "    e_val_approx[0] = 0\n",
    "    \n",
    "    for k in range(1,steps+1):\n",
    "        e_vec_approx[:,k] = (A @ e_vec_approx[:,k-1]) / np.linalg.norm((A @ e_vec_approx[:,k-1]))\n",
    "        e_val_approx[k] = rayleigh(A,e_vec_approx[:,k])\n",
    "    \n",
    "    return e_vec_approx, e_val_approx"
   ]
  },
  {
   "cell_type": "code",
   "execution_count": 4,
   "id": "befb3d52",
   "metadata": {},
   "outputs": [],
   "source": [
    "def test1(n,steps,error, stretch=0):\n",
    "    \"\"\"\n",
    "    Tests the third algorithm\n",
    "    Inputs: n, size of the matrix, number of desired steps, desired error, and stretch\n",
    "    Output: \n",
    "    \"\"\"\n",
    "    A = np.random.randn(n,n)\n",
    "    B = A @ A.T\n",
    "    \n",
    "    evals, evecs = np.linalg.eigh(B)\n",
    "    \n",
    "    index_eigh = np.argmax(evals)\n",
    "    q = np.absolute(evecs[:,index_eigh])\n",
    "    P = q @ q.T\n",
    "    B_update = B + stretch * P\n",
    "    \n",
    "    def cvalind(C,error,steps):\n",
    "        cvecs, cvals = algo1(C,steps)\n",
    "        l = cvals[steps]\n",
    "        \n",
    "        k = 0\n",
    "        \n",
    "        while k <= steps:\n",
    "            if np.abs(l - cvals[k]) < error:\n",
    "                return k\n",
    "            else:\n",
    "                k = k + 1\n",
    "        \n",
    "        return np.inf\n",
    "        \n",
    "    def cvecind(C,error,steps):\n",
    "        cvecs, cvals = algo1(C,steps)\n",
    "        q = cvecs[:,steps]\n",
    "        \n",
    "        k = 0\n",
    "        \n",
    "        while k <= steps:\n",
    "            if np.linalg.norm(q - cvecs[:,k]) < error or np.linalg.norm((-q) - cvecs[:,k]) < error:\n",
    "                return k\n",
    "            else:\n",
    "                k = k + 1\n",
    "        \n",
    "        return np.inf\n",
    "                \n",
    "    B_val = cvalind(B,error,steps)\n",
    "    B_vec = cvecind(B,error,steps)\n",
    "    B_up_val = cvalind(B_update,error,steps)\n",
    "    B_up_vec = cvecind(B_update,error,steps)\n",
    "        \n",
    "    return print(B_val,B_vec,B_up_val,B_up_vec)"
   ]
  },
  {
   "cell_type": "code",
   "execution_count": 5,
   "id": "0848f9f9",
   "metadata": {},
   "outputs": [],
   "source": [
    "def algo3(A,steps):\n",
    "    \"\"\"\n",
    "    Runs the third algorithm and returns the \"best\" eigenvector and eigenvalue for A in the number of given steps\n",
    "    Inputs: The matrix A (symmetric) and the number of desired steps\n",
    "    Output: The \"best\" eigenvector and value in the steps given\n",
    "    \"\"\"\n",
    "    n,_ = A.shape\n",
    "    e_val_approx = np.zeros(steps + 1)\n",
    "    e_vec_approx = np.zeros((n, steps + 1))\n",
    "    \n",
    "    v = np.random.rand(1,n)\n",
    "    \n",
    "    e_vec_approx[:, 0] = v / np.linalg.norm(v)\n",
    "    e_val_approx[0] = rayleigh(A, e_vec_approx[:, 0])  \n",
    "    \n",
    "    for k in range(1, steps + 1):\n",
    "        B = np.linalg.solve((A - e_val_approx[k - 1]),e_vec_approx[:,k-1])     \n",
    "        e_vec_approx[:, k] = B / np.linalg.norm(B)\n",
    "        e_val_approx[k] = rayleigh(A, e_vec_approx[:,k])  \n",
    "        \n",
    "    return e_vec_approx, e_val_approx"
   ]
  },
  {
   "cell_type": "code",
   "execution_count": 6,
   "id": "fd0e24c5",
   "metadata": {},
   "outputs": [],
   "source": [
    "def test3(n,steps):\n",
    "    \"\"\"\n",
    "    Tests the third algorithm\n",
    "    Inputs: n, size of the matrix, and number of desired steps\n",
    "    Output: Return a steps length vector where the ith entry is ||Ax[i] - y[i]x[i]||, where x[i] is the \n",
    "    ith eigenvector guess and y[i] is the ith eigenvalue guess\n",
    "    \"\"\"\n",
    "    A = np.random.randn(n,n)\n",
    "    B = A @ A.T\n",
    "    \n",
    "    x,y = algo3(B,steps)\n",
    "    \n",
    "    guess = np.zeros(steps+1)\n",
    "    \n",
    "    for i in range(steps+1):\n",
    "        guess[i] = np.linalg.norm(np.dot(B,x[:,i]) - np.dot(y[i],x[:,i]))\n",
    "    return guess"
   ]
  },
  {
   "cell_type": "code",
   "execution_count": null,
   "id": "e6bd7780",
   "metadata": {},
   "outputs": [],
   "source": []
  },
  {
   "cell_type": "code",
   "execution_count": null,
   "id": "7dafe55f",
   "metadata": {},
   "outputs": [],
   "source": []
  }
 ],
 "metadata": {
  "kernelspec": {
   "display_name": "Python 3 (ipykernel)",
   "language": "python",
   "name": "python3"
  },
  "language_info": {
   "codemirror_mode": {
    "name": "ipython",
    "version": 3
   },
   "file_extension": ".py",
   "mimetype": "text/x-python",
   "name": "python",
   "nbconvert_exporter": "python",
   "pygments_lexer": "ipython3",
   "version": "3.11.4"
  }
 },
 "nbformat": 4,
 "nbformat_minor": 5
}
